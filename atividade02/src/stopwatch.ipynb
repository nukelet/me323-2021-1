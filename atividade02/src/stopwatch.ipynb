{
 "cells": [
  {
   "cell_type": "markdown",
   "metadata": {
    "id": "CrS5bV9WxjUr"
   },
   "source": [
    "# Atividade 2\n",
    "\n",
    "Uma versão live deste Jupyter Notebook pode ser encontrada em https://colab.research.google.com/drive/1sozgEnRmWljnkszM4G-nkhM0DvYpDShf?usp=sharing\n",
    "\n",
    "O repositório no Github com os arquivos dessa atividade se encontra em https://github.com/nukelets/me323-2021-1/tree/main/atividade02\n",
    "\n",
    "## Descrição do experimento\n",
    "O experimento é realizado por duas pessoas; uma das pessoas inicia a contagem de um cronômetro, e a outra pessoa deve pedir para a contagem do cronômetro ser interrompida quando ela achar que se passaram 30 segundos.\n",
    "São realizadas dez medições dessa forma, e em seguida os papéis devem ser invertidos, de modo que no total são obtidos dois conjuntos de dados com 10 medições cada.\n",
    "\n",
    "O arquivo csv com os dados se encontra em um repositório do Github, cujo link se encontra no snippet de código abaixo:\n"
   ]
  },
  {
   "cell_type": "code",
   "execution_count": 22,
   "metadata": {
    "colab": {
     "base_uri": "https://localhost:8080/"
    },
    "id": "b02N44ql3Fxi",
    "outputId": "56aea5fa-0906-4a3f-da3d-8f1882b9f10a"
   },
   "outputs": [
    {
     "data": {
      "text/plain": [
       "('data.csv', <http.client.HTTPMessage at 0x7f4e75945110>)"
      ]
     },
     "execution_count": 22,
     "metadata": {
      "tags": []
     },
     "output_type": "execute_result"
    }
   ],
   "source": [
    "from urllib.request import urlretrieve\n",
    "import os\n",
    "import pandas as pd\n",
    "\n",
    "# fetch csv data\n",
    "url = \"https://raw.githubusercontent.com/nukelets/me323-2021-1/main/atividade02/src/data.csv\"\n",
    "urlretrieve(url, 'data.csv')"
   ]
  },
  {
   "cell_type": "markdown",
   "metadata": {
    "id": "JL4xTqd_Ej3H"
   },
   "source": [
    "Na tabela abaixo se encontram dispostos os resultados. Para"
   ]
  },
  {
   "cell_type": "code",
   "execution_count": 23,
   "metadata": {
    "colab": {
     "base_uri": "https://localhost:8080/",
     "height": 363
    },
    "id": "Ds2emGPxHO1j",
    "outputId": "2c4a711d-a532-4322-9617-6ce46e07c780"
   },
   "outputs": [
    {
     "data": {
      "text/html": [
       "<div>\n",
       "<style scoped>\n",
       "    .dataframe tbody tr th:only-of-type {\n",
       "        vertical-align: middle;\n",
       "    }\n",
       "\n",
       "    .dataframe tbody tr th {\n",
       "        vertical-align: top;\n",
       "    }\n",
       "\n",
       "    .dataframe thead th {\n",
       "        text-align: right;\n",
       "    }\n",
       "</style>\n",
       "<table border=\"1\" class=\"dataframe\">\n",
       "  <thead>\n",
       "    <tr style=\"text-align: right;\">\n",
       "      <th></th>\n",
       "      <th>student a</th>\n",
       "      <th>student b</th>\n",
       "    </tr>\n",
       "  </thead>\n",
       "  <tbody>\n",
       "    <tr>\n",
       "      <th>0</th>\n",
       "      <td>32.48</td>\n",
       "      <td>33.67</td>\n",
       "    </tr>\n",
       "    <tr>\n",
       "      <th>1</th>\n",
       "      <td>31.11</td>\n",
       "      <td>34.53</td>\n",
       "    </tr>\n",
       "    <tr>\n",
       "      <th>2</th>\n",
       "      <td>30.76</td>\n",
       "      <td>32.91</td>\n",
       "    </tr>\n",
       "    <tr>\n",
       "      <th>3</th>\n",
       "      <td>31.79</td>\n",
       "      <td>31.70</td>\n",
       "    </tr>\n",
       "    <tr>\n",
       "      <th>4</th>\n",
       "      <td>31.20</td>\n",
       "      <td>32.52</td>\n",
       "    </tr>\n",
       "    <tr>\n",
       "      <th>5</th>\n",
       "      <td>31.89</td>\n",
       "      <td>34.15</td>\n",
       "    </tr>\n",
       "    <tr>\n",
       "      <th>6</th>\n",
       "      <td>33.11</td>\n",
       "      <td>35.54</td>\n",
       "    </tr>\n",
       "    <tr>\n",
       "      <th>7</th>\n",
       "      <td>31.85</td>\n",
       "      <td>34.07</td>\n",
       "    </tr>\n",
       "    <tr>\n",
       "      <th>8</th>\n",
       "      <td>32.38</td>\n",
       "      <td>38.16</td>\n",
       "    </tr>\n",
       "    <tr>\n",
       "      <th>9</th>\n",
       "      <td>31.02</td>\n",
       "      <td>37.51</td>\n",
       "    </tr>\n",
       "  </tbody>\n",
       "</table>\n",
       "</div>"
      ],
      "text/plain": [
       "   student a  student b\n",
       "0      32.48      33.67\n",
       "1      31.11      34.53\n",
       "2      30.76      32.91\n",
       "3      31.79      31.70\n",
       "4      31.20      32.52\n",
       "5      31.89      34.15\n",
       "6      33.11      35.54\n",
       "7      31.85      34.07\n",
       "8      32.38      38.16\n",
       "9      31.02      37.51"
      ]
     },
     "execution_count": 23,
     "metadata": {
      "tags": []
     },
     "output_type": "execute_result"
    }
   ],
   "source": [
    "csv = pd.read_csv(\"data.csv\")\n",
    "csv"
   ]
  },
  {
   "cell_type": "markdown",
   "metadata": {
    "id": "z08Fgd7qE7e0"
   },
   "source": [
    "Seguem também as estatíticas descritivas para os dois conjuntos de dados: "
   ]
  },
  {
   "cell_type": "code",
   "execution_count": 33,
   "metadata": {
    "colab": {
     "base_uri": "https://localhost:8080/"
    },
    "id": "DPwp0qZjwh-T",
    "outputId": "1571c101-5d63-4491-f84d-18f06529350d"
   },
   "outputs": [
    {
     "name": "stdout",
     "output_type": "stream",
     "text": [
      "       student a  student b\n",
      "count  10.000000  10.000000\n",
      "mean   31.759000  34.476000\n",
      "std     0.747952   2.076783\n",
      "min    30.760000  31.700000\n",
      "25%    31.132500  33.100000\n",
      "50%    31.820000  34.110000\n",
      "75%    32.257500  35.287500\n",
      "max    33.110000  38.160000\n"
     ]
    }
   ],
   "source": [
    "print(csv.describe())"
   ]
  },
  {
   "cell_type": "markdown",
   "metadata": {
    "id": "ycc3GtumFKKN"
   },
   "source": [
    "E, finalmente, na figura abaixo se encontra um boxplot mostrando a distribuição dos dados:"
   ]
  },
  {
   "cell_type": "code",
   "execution_count": 28,
   "metadata": {
    "colab": {
     "base_uri": "https://localhost:8080/",
     "height": 282
    },
    "id": "phIezatJFX0Y",
    "outputId": "b931fbfe-7a8b-4447-d083-de0263654aa9"
   },
   "outputs": [
    {
     "data": {
      "text/plain": [
       "<matplotlib.axes._subplots.AxesSubplot at 0x7f4e75345ed0>"
      ]
     },
     "execution_count": 28,
     "metadata": {
      "tags": []
     },
     "output_type": "execute_result"
    },
    {
     "data": {
      "image/png": "[encoded data removed]",
      "text/plain": [
       "<Figure size 432x288 with 1 Axes>"
      ]
     },
     "metadata": {
      "needs_background": "light",
      "tags": []
     },
     "output_type": "display_data"
    }
   ],
   "source": [
    "csv.boxplot()"
   ]
  },
  {
   "cell_type": "markdown",
   "metadata": {
    "id": "bAZvxdb7Fc4V"
   },
   "source": [
    "# Discussão dos resultados\n",
    "\n",
    "> Há evidências de que as medidas se desviam muito de 30 segundos?\n",
    "\n"
   ]
  },
  {
   "cell_type": "code",
   "execution_count": 40,
   "metadata": {
    "colab": {
     "base_uri": "https://localhost:8080/"
    },
    "id": "Y7JCYwPCGD6o",
    "outputId": "71bcc2c9-422c-4e90-fcfc-cf27c340095a"
   },
   "outputs": [
    {
     "name": "stdout",
     "output_type": "stream",
     "text": [
      "[0.058633333333333225, 0.14919999999999997]\n",
      "[0.023550868058286167, 0.06023850702779015]\n"
     ]
    }
   ],
   "source": [
    "erros_percentuais = list((csv[key].mean() - 30)/30 for key in csv)\n",
    "print(erros_percentuais)\n",
    "\n",
    "coefs_variacao = list(csv[key].std()/csv[key].mean() for key in csv)\n",
    "print(coefs_variacao)"
   ]
  },
  {
   "cell_type": "markdown",
   "metadata": {
    "id": "W6L4bHqFGavI"
   },
   "source": [
    "Como ilustrado no snippet acima, há um erro percentual (em relação a 30 segundos) de 5.9% para o primeiro conjunto de dados e de 15.0% para o segundo conjunto de dados. Esses erros percentuais parecem ser aceitáveis para um experimento dessa natureza.\n",
    "\n",
    "Além disso, os dois conjuntos de dados têm coeficiente de variação da ordem de 10⁻¹, o que mostra que os dados são pouco dispersos em relação às médias. \n",
    "\n",
    "-----------------"
   ]
  },
  {
   "cell_type": "markdown",
   "metadata": {
    "id": "NhlGvfieJn6p"
   },
   "source": [
    "> Há evidências de que o colega que iniciou com o cronômetro é mais preciso que o colega que iniciou respondendo?\n",
    "\n",
    "Não. Na primeira iteração do experimento a média foi mais próxima de 30 segundos e o desvio padrão foi menor que o da segunda iteração, o que sugere que a primeira iteração do experimento possivelmente não teve influência na segunda iteração."
   ]
  }
 ],
 "metadata": {
  "colab": {
   "name": "stopwatch.ipynb",
   "provenance": []
  },
  "kernelspec": {
   "display_name": "Python 3",
   "language": "python",
   "name": "python3"
  },
  "language_info": {
   "codemirror_mode": {
    "name": "ipython",
    "version": 3
   },
   "file_extension": ".py",
   "mimetype": "text/x-python",
   "name": "python",
   "nbconvert_exporter": "python",
   "pygments_lexer": "ipython3",
   "version": "3.9.2"
  }
 },
 "nbformat": 4,
 "nbformat_minor": 1
}
